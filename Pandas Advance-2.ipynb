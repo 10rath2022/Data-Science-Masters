{
 "cells": [
  {
   "cell_type": "code",
   "execution_count": 7,
   "id": "89e1233b",
   "metadata": {},
   "outputs": [],
   "source": [
    "import pandas as pd\n",
    "course_name = ['Data Science', 'Machine Learning', 'Big Data', 'Data Engineer']\n",
    "duration = [2,3,6,4]\n",
    "df = pd.DataFrame(data = {'course_name' : course_name, 'duration' : duration})"
   ]
  },
  {
   "cell_type": "markdown",
   "id": "44c57ce4",
   "metadata": {},
   "source": [
    "Q1. Write a code to print the data present in the second row of the dataframe, df.\n",
    "\n"
   ]
  },
  {
   "cell_type": "code",
   "execution_count": 8,
   "id": "8d73ba77",
   "metadata": {},
   "outputs": [
    {
     "name": "stdout",
     "output_type": "stream",
     "text": [
      "course_name    Machine Learning\n",
      "duration                      3\n",
      "Name: 1, dtype: object\n"
     ]
    }
   ],
   "source": [
    "# Print the data present in the second row of the dataframe\n",
    "print(df.iloc[1])"
   ]
  },
  {
   "cell_type": "markdown",
   "id": "22ad53d8",
   "metadata": {},
   "source": [
    "Q2. What is the difference between the functions loc and iloc in pandas.DataFrame?"
   ]
  },
  {
   "cell_type": "markdown",
   "id": "08fd2b05",
   "metadata": {},
   "source": [
    "The loc and iloc functions in pandas DataFrame are used for different types of indexing:\n",
    "\n",
    "loc: This function is label-based data selection method which means that we have to pass the name of the row or column which we want to select. This method includes the last element of the range passed in it, unlike iloc. loc can accept the boolean data, it will return a DataFrame of the same size if the boolean condition is not met.\n",
    "iloc: This function is an integer index-based method. Hence, we have to specify rows and columns by their integer index. iloc returns a DataFrame when the number of rows is greater than 1. But when we are accessing only one row, then it returns a Series object.\n",
    "Here’s an example to illustrate the difference:"
   ]
  },
  {
   "cell_type": "code",
   "execution_count": 9,
   "id": "2ac193c9",
   "metadata": {},
   "outputs": [
    {
     "name": "stdout",
     "output_type": "stream",
     "text": [
      "Machine Learning\n",
      "Machine Learning\n"
     ]
    }
   ],
   "source": [
    "# Using 'loc' (label-based)\n",
    "print(df.loc[1, 'course_name'])\n",
    "\n",
    "# Using 'iloc' (integer index-based)\n",
    "print(df.iloc[1, 0])\n"
   ]
  },
  {
   "cell_type": "code",
   "execution_count": null,
   "id": "d77e8a35",
   "metadata": {},
   "outputs": [],
   "source": []
  },
  {
   "cell_type": "markdown",
   "id": "55e641d8",
   "metadata": {},
   "source": [
    "Q3. Reindex the given dataframe using a variable, reindex = [3,0,1,2] and store it in the variable, new_df\n",
    "then find the output for both new_df.loc[2] and new_df.iloc[2]."
   ]
  },
  {
   "cell_type": "code",
   "execution_count": 10,
   "id": "871f297e",
   "metadata": {},
   "outputs": [
    {
     "name": "stdout",
     "output_type": "stream",
     "text": [
      "        course_name  duration\n",
      "3     Data Engineer         4\n",
      "0      Data Science         2\n",
      "1  Machine Learning         3\n",
      "2          Big Data         6\n"
     ]
    }
   ],
   "source": [
    "# Reindex the dataframe\n",
    "reindex = [3,0,1,2]\n",
    "new_df = df.reindex(reindex)\n",
    "\n",
    "# Print the new dataframe\n",
    "print(new_df)\n"
   ]
  },
  {
   "cell_type": "code",
   "execution_count": 11,
   "id": "cfe9ac9b",
   "metadata": {},
   "outputs": [
    {
     "name": "stdout",
     "output_type": "stream",
     "text": [
      "course_name    Big Data\n",
      "duration              6\n",
      "Name: 2, dtype: object\n",
      "course_name    Machine Learning\n",
      "duration                      3\n",
      "Name: 1, dtype: object\n"
     ]
    }
   ],
   "source": [
    "# This will create a new DataFrame new_df with the rows reordered according to the reindex list.\n",
    "\n",
    "# Now, to find the output for new_df.loc[2] and new_df.iloc[2], you can use the following code\n",
    "\n",
    "\n",
    "# Using 'loc'\n",
    "print(new_df.loc[2])\n",
    "\n",
    "# Using 'iloc'\n",
    "print(new_df.iloc[2])\n",
    "\n",
    "\n",
    "# new_df.loc[2] will print the data of the original second row from df as we have reindexed it, while new_df.iloc[2] will print the data of the third row of the new DataFrame new_df. Please note that Python uses 0-based indexing, so iloc[2] refers to the third row. Also, loc is label-based, so loc[2] refers to the row with the index label 2."
   ]
  },
  {
   "cell_type": "markdown",
   "id": "0169c3d9",
   "metadata": {},
   "source": [
    "Did you observe any difference in both the outputs? If so then explain it.\n",
    "Consider the below code to answer further questions:\n",
    "import pandas as pd\n",
    "import numpy as np\n",
    "columns = ['column_1', 'column_2', 'column_3', 'column_4', 'column_5', 'column_6']\n",
    "indices = [1,2,3,4,5,6]\n",
    "#Creating a dataframe:\n",
    "df1 = pd.DataFrame(np.random.rand(6,6), columns = columns, index = indices)"
   ]
  },
  {
   "cell_type": "markdown",
   "id": "4c5dc753",
   "metadata": {},
   "source": [
    "Yes, there is a difference in the outputs of `new_df.loc[2]` and `new_df.iloc[2]` because `loc` and `iloc` serve different purposes:\n",
    "\n",
    "- `new_df.loc[2]` returns the row with the **label** 2. Even after reindexing, the label of the rows remains the same, so it returns the row from `new_df` that originally had the label 2 in `df`.\n",
    "\n",
    "- `new_df.iloc[2]` returns the row at the **index** 2 of the reindexed dataframe `new_df`, which is the third row due to 0-based indexing.\n",
    "\n",
    "So, `new_df.loc[2]` and `new_df.iloc[2]` can return different rows if the DataFrame has been reindexed.\n",
    "\n",
    "Now, regarding the new code you've shared, you've created a DataFrame `df1` with random values using `numpy.random.rand`. The DataFrame has 6 rows and 6 columns, with the column names as 'column_1' to 'column_6' and the index labels as 1 to 6. If you have any questions or need further assistance with this DataFrame, feel free to ask!"
   ]
  },
  {
   "cell_type": "markdown",
   "id": "d4cfbbc6",
   "metadata": {},
   "source": [
    "Q4. Write a code to find the following statistical measurements for the above dataframe df1:\n",
    "(i) mean of each and every column present in the dataframe.\n",
    "(ii) standard deviation of column, ‘column_2’"
   ]
  },
  {
   "cell_type": "code",
   "execution_count": 16,
   "id": "18d2f611",
   "metadata": {},
   "outputs": [
    {
     "name": "stdout",
     "output_type": "stream",
     "text": [
      "Mean of each column:\n",
      " duration    3.75\n",
      "dtype: float64\n"
     ]
    },
    {
     "name": "stderr",
     "output_type": "stream",
     "text": [
      "C:\\Users\\Dashrath Sangle\\AppData\\Local\\Temp\\ipykernel_35252\\1987055678.py:2: FutureWarning: The default value of numeric_only in DataFrame.mean is deprecated. In a future version, it will default to False. In addition, specifying 'numeric_only=None' is deprecated. Select only valid columns or specify the value of numeric_only to silence this warning.\n",
      "  mean_df = df.mean()\n"
     ]
    }
   ],
   "source": [
    "# (i) Mean of each and every column present in the dataframe\n",
    "mean_df = df.mean()\n",
    "print(\"Mean of each column:\\n\", mean_df)\n",
    "\n",
    "# # (ii) Standard deviation of column, 'column_2'\n",
    "# std_column_2 = df['column_2'].std()\n",
    "# print(\"\\nStandard deviation of column_2:\", std_column_2)\n"
   ]
  },
  {
   "cell_type": "code",
   "execution_count": null,
   "id": "89c5f656",
   "metadata": {},
   "outputs": [],
   "source": []
  },
  {
   "cell_type": "markdown",
   "id": "a6196c0c",
   "metadata": {},
   "source": [
    "Q5. Replace the data present in the second row of column, ‘column_2’ by a string variable then find the\n",
    "mean of column, column_2.\n",
    "If you are getting errors in executing it then explain why.\n",
    "[Hint: To replace the data use df1.loc[] and equate this to string data of your choice.]"
   ]
  },
  {
   "cell_type": "code",
   "execution_count": 18,
   "id": "5f545603",
   "metadata": {},
   "outputs": [],
   "source": [
    "# Replace the data in the second row of 'column_2' with a string\n",
    "df.loc[2, 'column_2'] = 'string_data'\n"
   ]
  },
  {
   "cell_type": "code",
   "execution_count": null,
   "id": "42fc2f26",
   "metadata": {},
   "outputs": [],
   "source": []
  },
  {
   "cell_type": "markdown",
   "id": "e3dcabc3",
   "metadata": {},
   "source": [
    "Q6. What do you understand about the windows function in pandas and list the types of windows\n",
    "functions?"
   ]
  },
  {
   "cell_type": "code",
   "execution_count": null,
   "id": "253445c2",
   "metadata": {},
   "outputs": [],
   "source": []
  },
  {
   "cell_type": "markdown",
   "id": "86cf5ba1",
   "metadata": {},
   "source": [
    "Q7. Write a code to print only the current month and year at the time of answering this question.\n",
    "[Hint: Use pandas.datetime function]"
   ]
  },
  {
   "cell_type": "markdown",
   "id": "53e338fc",
   "metadata": {},
   "source": [
    "In pandas, window functions are a family of functions used for the computation of various statistical and other operations on a window, or subset, of the data. These functions are very useful when we need to perform some kind of operation on a specific \"window\" or subset of data, which is defined within a certain span of items in the data set.\n",
    "\n",
    "There are three types of window functions in pandas:\n",
    "\n",
    "1. **Rolling Window Functions**: These functions operate on a fixed-size window of data represented by a certain number of periods. The `rolling()` function is used to create a Rolling object, on which we can call various functions to compute rolling statistics. For example, `df.rolling(window=3).mean()` would compute a 3-period rolling mean.\n",
    "\n",
    "2. **Expanding Window Functions**: These functions operate on an expanding window of data represented by all previous data points. The `expanding()` function is used to create an Expanding object, on which we can call various functions to compute expanding statistics. For example, `df.expanding(min_periods=1).sum()` would compute an expanding sum.\n",
    "\n",
    "3. **Exponential Weighted Window Functions**: These functions apply more weight to recent items and less weight to items further in the past, making them very useful for time-series data. The `ewm()` function is used to create an Exponential Weighted object, on which we can call various functions to compute exponentially weighted statistics. For example, `df.ewm(span=20).mean()` would compute an exponentially weighted moving average with a span of 20 periods.\n",
    "\n",
    "Each of these window types has its own use cases and can be very useful for different kinds of data analysis tasks. It's important to choose the right type of window function based on the specific requirements of your data analysis task."
   ]
  },
  {
   "cell_type": "markdown",
   "id": "5b779c78",
   "metadata": {},
   "source": [
    "Q8. Write a Python program that takes in two dates as input (in the format YYYY-MM-DD) and\n",
    "calculates the difference between them in days, hours, and minutes using Pandas time delta. The\n",
    "program should prompt the user to enter the dates and display the result."
   ]
  },
  {
   "cell_type": "code",
   "execution_count": 20,
   "id": "3191f983",
   "metadata": {},
   "outputs": [
    {
     "name": "stdout",
     "output_type": "stream",
     "text": [
      "Enter the first date (in the format YYYY-MM-DD): 2024-05-03\n",
      "Enter the second date (in the format YYYY-MM-DD): 2025-05-03\n",
      "The difference between the dates is 365 days, 8760.0 hours, and 525600.0 minutes.\n"
     ]
    }
   ],
   "source": [
    "import pandas as pd\n",
    "\n",
    "# Prompt the user to enter the dates\n",
    "date1 = input(\"Enter the first date (in the format YYYY-MM-DD): \")\n",
    "date2 = input(\"Enter the second date (in the format YYYY-MM-DD): \")\n",
    "\n",
    "# Convert the dates to pandas datetime objects\n",
    "date1 = pd.to_datetime(date1)\n",
    "date2 = pd.to_datetime(date2)\n",
    "\n",
    "# Calculate the difference between the dates\n",
    "diff = date2 - date1\n",
    "\n",
    "# Calculate the difference in days, hours, and minutes\n",
    "days = diff.days\n",
    "hours = diff.total_seconds() // 3600\n",
    "minutes = diff.total_seconds() // 60\n",
    "\n",
    "# Print the result\n",
    "print(f\"The difference between the dates is {days} days, {hours} hours, and {minutes} minutes.\")\n"
   ]
  },
  {
   "cell_type": "markdown",
   "id": "f72ed321",
   "metadata": {},
   "source": [
    "Q9. Write a Python program that reads a CSV file containing categorical data and converts a specified\n",
    "column to a categorical data type. The program should prompt the user to enter the file path, column\n",
    "name, and category order, and then display the sorted data."
   ]
  },
  {
   "cell_type": "code",
   "execution_count": 21,
   "id": "5317ed16",
   "metadata": {},
   "outputs": [
    {
     "name": "stdout",
     "output_type": "stream",
     "text": [
      "   PassengerId  Survived  Pclass  \\\n",
      "0            1         0       3   \n",
      "1            2         1       1   \n",
      "2            3         1       3   \n",
      "3            4         1       1   \n",
      "4            5         0       3   \n",
      "\n",
      "                                                Name     Sex   Age  SibSp  \\\n",
      "0                            Braund, Mr. Owen Harris    male  22.0      1   \n",
      "1  Cumings, Mrs. John Bradley (Florence Briggs Th...  female  38.0      1   \n",
      "2                             Heikkinen, Miss. Laina  female  26.0      0   \n",
      "3       Futrelle, Mrs. Jacques Heath (Lily May Peel)  female  35.0      1   \n",
      "4                           Allen, Mr. William Henry    male  35.0      0   \n",
      "\n",
      "   Parch            Ticket     Fare Cabin Embarked  \n",
      "0      0         A/5 21171   7.2500   NaN        S  \n",
      "1      0          PC 17599  71.2833   C85        C  \n",
      "2      0  STON/O2. 3101282   7.9250   NaN        S  \n",
      "3      0            113803  53.1000  C123        S  \n",
      "4      0            373450   8.0500   NaN        S  \n"
     ]
    }
   ],
   "source": [
    "import pandas as pd\n",
    "\n",
    "# URL of the CSV file\n",
    "url = \"https://raw.githubusercontent.com/datasciencedojo/datasets/master/titanic.csv\"\n",
    "\n",
    "# Read the CSV data\n",
    "df = pd.read_csv(url)\n",
    "\n",
    "# Display the first few rows of the DataFrame\n",
    "print(df.head())\n"
   ]
  },
  {
   "cell_type": "markdown",
   "id": "93ec8905",
   "metadata": {},
   "source": [
    "Q10. Write a Python program that reads a CSV file containing sales data for different products and\n",
    "visualizes the data using a stacked bar chart to show the sales of each product category over time. The\n",
    "program should prompt the user to enter the file path and display the chart."
   ]
  },
  {
   "cell_type": "code",
   "execution_count": null,
   "id": "50c40415",
   "metadata": {},
   "outputs": [],
   "source": [
    "import pandas as pd\n",
    "import matplotlib.pyplot as plt\n",
    "\n",
    "# URL of the CSV file\n",
    "url = \"https://raw.githubusercontent.com/datasciencedojo/datasets/master/titanic.csv\"\n",
    "\n",
    "# Read the CSV data\n",
    "df = pd.read_csv(url)\n",
    "\n",
    "# Assuming the data has a 'Date' column for time, 'Product' column for product category, and 'Sales' column for sales\n",
    "# Pivot the data for the stacked bar chart\n",
    "pivot_df = df.pivot(index='Parch', columns='Ticket', values='Fare')\n",
    "\n",
    "# Plot a stacked bar chart\n",
    "pivot_df.plot(kind='bar', stacked=True)\n",
    "\n",
    "# Display the chart\n",
    "plt.show()\n",
    "\n",
    "\n",
    "# ‘Survived’, ‘Pclass’, ‘Name’, ‘Sex’, ‘Age’, ‘SibSp’, ‘Parch’, ‘Ticket’, ‘Fare’, ‘Cabin’, and ‘Embarked’."
   ]
  },
  {
   "cell_type": "code",
   "execution_count": null,
   "id": "3b976342",
   "metadata": {},
   "outputs": [],
   "source": []
  }
 ],
 "metadata": {
  "kernelspec": {
   "display_name": "Python 3 (ipykernel)",
   "language": "python",
   "name": "python3"
  },
  "language_info": {
   "codemirror_mode": {
    "name": "ipython",
    "version": 3
   },
   "file_extension": ".py",
   "mimetype": "text/x-python",
   "name": "python",
   "nbconvert_exporter": "python",
   "pygments_lexer": "ipython3",
   "version": "3.11.3"
  }
 },
 "nbformat": 4,
 "nbformat_minor": 5
}
