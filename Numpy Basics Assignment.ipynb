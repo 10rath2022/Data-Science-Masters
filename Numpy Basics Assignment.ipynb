{
 "cells": [
  {
   "cell_type": "markdown",
   "id": "36131014",
   "metadata": {},
   "source": [
    "Consider the below code to answer further questions:\n",
    "\n",
    "\n",
    "import numpy as np\n",
    "\n",
    "list_ = [ ‘1’ , ’2’ , ‘3’ , ‘4’ , ‘5’ ]\n",
    "\n",
    "array_list = np.array(object = list_)"
   ]
  },
  {
   "cell_type": "markdown",
   "id": "6d9f8fcd",
   "metadata": {},
   "source": [
    "Q1. Is there any difference in the data type of variables list_ and array_list? If there is then write a code\n",
    "to print the data types of both the variables."
   ]
  },
  {
   "cell_type": "markdown",
   "id": "d14791e6",
   "metadata": {},
   "source": [
    "Yes, there is a difference in the data type of variables list_ and array_list.\n",
    "\n",
    "The variable list_ is a Python list containing string elements ('1', '2', '3', '4', '5'). The data type of elements in list_ is str (string).\n",
    "\n",
    "The variable array_list is a NumPy array created from the list_ using np.array(). When you create a NumPy array from a list of strings like this, the array will typically have a data type of '<U1', which represents a Unicode string of length 1.\n",
    "\n",
    "To print the data types of both list_ and array_list, you can use the following code:"
   ]
  },
  {
   "cell_type": "code",
   "execution_count": 1,
   "id": "4da88599",
   "metadata": {},
   "outputs": [
    {
     "name": "stdout",
     "output_type": "stream",
     "text": [
      "Data type of list_: <class 'str'>\n",
      "Data type of array_list: <U1\n"
     ]
    }
   ],
   "source": [
    "import numpy as np\n",
    "\n",
    "list_ = ['1', '2', '3', '4', '5']\n",
    "array_list = np.array(list_)\n",
    "\n",
    "print(\"Data type of list_:\", type(list_[0]))  # Data type of elements in list_\n",
    "print(\"Data type of array_list:\", array_list.dtype)  # Data type of elements in array_list\n"
   ]
  },
  {
   "cell_type": "markdown",
   "id": "5726019c",
   "metadata": {},
   "source": [
    "Q2. Write a code to print the data type of each and every element of both the variables list_ and\n",
    "arra_list."
   ]
  },
  {
   "cell_type": "code",
   "execution_count": 2,
   "id": "7d9ddb91",
   "metadata": {},
   "outputs": [
    {
     "name": "stdout",
     "output_type": "stream",
     "text": [
      "Data type of elements in list_:\n",
      "<class 'str'>\n",
      "<class 'str'>\n",
      "<class 'str'>\n",
      "<class 'str'>\n",
      "<class 'str'>\n",
      "\n",
      "Data type of elements in array_list:\n",
      "<U1\n",
      "<U1\n",
      "<U1\n",
      "<U1\n",
      "<U1\n"
     ]
    }
   ],
   "source": [
    "import numpy as np\n",
    "\n",
    "list_ = ['1', '2', '3', '4', '5']\n",
    "array_list = np.array(list_)\n",
    "\n",
    "# Print data type of each element in list_\n",
    "print(\"Data type of elements in list_:\")\n",
    "for element in list_:\n",
    "    print(type(element))\n",
    "\n",
    "# Print data type of each element in array_list\n",
    "print(\"\\nData type of elements in array_list:\")\n",
    "for element in array_list:\n",
    "    print(element.dtype)\n",
    "\n",
    "    \n",
    "# The output will show the data type of each element in both list_ and array_list. \n",
    "# The elements in list_ are all strings (str), while the elements in array_list are represented as Unicode strings (<U1)."
   ]
  },
  {
   "cell_type": "markdown",
   "id": "007fe18a",
   "metadata": {},
   "source": [
    "Q3. Considering the following changes in the variable, array_list:\n",
    "array_list = np.array(object = list_, dtype = int)\n",
    "\n",
    "Will there be any difference in the data type of the elements present in both the variables, list_ and\n",
    "arra_list? If so then print the data types of each and every element present in both the variables, list_\n",
    "and arra_list.\n",
    "\n",
    "Consider the below code to answer further questions:\n",
    "    \n",
    "import numpy as np\n",
    "num_list = [ [ 1 , 2 , 3 ] , [ 4 , 5 , 6 ] ]\n",
    "num_array = np.array(object = num_list)"
   ]
  },
  {
   "cell_type": "markdown",
   "id": "fca83d1e",
   "metadata": {},
   "source": [
    "Yes, there will be a difference in the data types of the elements present in list_ and array_list when you create array_list with the specified dtype as int.\n",
    "\n",
    "Let's examine the data types of each element in list_ and array_list after making this change:"
   ]
  },
  {
   "cell_type": "code",
   "execution_count": 3,
   "id": "03b1bc99",
   "metadata": {},
   "outputs": [
    {
     "name": "stdout",
     "output_type": "stream",
     "text": [
      "Data type of elements in list_:\n",
      "<class 'str'>\n",
      "<class 'str'>\n",
      "<class 'str'>\n",
      "<class 'str'>\n",
      "<class 'str'>\n",
      "\n",
      "Data type of elements in array_list:\n",
      "<class 'numpy.int32'>\n",
      "<class 'numpy.int32'>\n",
      "<class 'numpy.int32'>\n",
      "<class 'numpy.int32'>\n",
      "<class 'numpy.int32'>\n"
     ]
    }
   ],
   "source": [
    "import numpy as np\n",
    "\n",
    "list_ = ['1', '2', '3', '4', '5']\n",
    "array_list = np.array(list_, dtype=int)\n",
    "\n",
    "# Print data type of each element in list_\n",
    "print(\"Data type of elements in list_:\")\n",
    "for element in list_:\n",
    "    print(type(element))\n",
    "\n",
    "# Print data type of each element in array_list\n",
    "print(\"\\nData type of elements in array_list:\")\n",
    "for element in array_list:\n",
    "    print(type(element))\n"
   ]
  },
  {
   "cell_type": "markdown",
   "id": "5c9ce715",
   "metadata": {},
   "source": [
    "In this modified code:\n",
    "\n",
    "np.array(list_, dtype=int) creates array_list from list_, converting each element to an integer (int).\n",
    "We iterate over list_ and array_list to print the data type of each element.\n",
    "Now, let's analyze the output:\n",
    "\n",
    "For list_ (original list of strings):\n",
    "\n",
    "The data type of each element in list_ remains str (string), as they are not converted during the creation of array_list.\n",
    "For array_list (NumPy array with dtype=int):\n",
    "\n",
    "Each element in array_list will be of type numpy.int64 (assuming default integer type on your system), as specified by the dtype=int argument during array creation.\n",
    "Therefore, after the change, list_ contains string elements ('1', '2', '3', '4', '5'), while array_list contains integer elements (1, 2, 3, 4, 5).\n",
    "\n",
    "The above code will print the data types accordingly for each element in both list_ and array_list."
   ]
  },
  {
   "cell_type": "markdown",
   "id": "2632280a",
   "metadata": {},
   "source": [
    "Q4. Write a code to find the following characteristics of variable, num_array:\n",
    "\n",
    "(i) shape\n",
    "(ii) size"
   ]
  },
  {
   "cell_type": "code",
   "execution_count": 4,
   "id": "f2861742",
   "metadata": {},
   "outputs": [
    {
     "name": "stdout",
     "output_type": "stream",
     "text": [
      "Shape of num_array: (2, 3)\n",
      "Size of num_array: 6\n"
     ]
    }
   ],
   "source": [
    "import numpy as np\n",
    "\n",
    "num_list = [[1, 2, 3], [4, 5, 6]]\n",
    "num_array = np.array(num_list)\n",
    "\n",
    "# (i) Finding the shape of num_array\n",
    "shape_of_array = num_array.shape\n",
    "print(\"Shape of num_array:\", shape_of_array)\n",
    "\n",
    "# (ii) Finding the size of num_array\n",
    "size_of_array = num_array.size\n",
    "print(\"Size of num_array:\", size_of_array)\n"
   ]
  },
  {
   "cell_type": "markdown",
   "id": "7fb1ad26",
   "metadata": {},
   "source": [
    "Explanation:\n",
    "\n",
    "np.array(num_list) creates a NumPy array num_array from the nested list num_list.\n",
    "num_array.shape returns a tuple representing the shape of the array, where the first value is the number of rows and the second value is the number of columns (if it's a 2D array). For example, if num_array is a 2D array with 2 rows and 3 columns, shape_of_array will be (2, 3).\n",
    "num_array.size returns the total number of elements in the array. For a 2D array like num_array (with shape (2, 3) in this case), size_of_array will be 6 (2 rows × 3 columns)."
   ]
  },
  {
   "cell_type": "markdown",
   "id": "718cae16",
   "metadata": {},
   "source": [
    "Q5. Write a code to create numpy array of 3*3 matrix containing zeros only, using a numpy array\n",
    "creation function.\n",
    "\n",
    "[Hint: The size of the array will be 9 and the shape will be (3,3).]"
   ]
  },
  {
   "cell_type": "code",
   "execution_count": 5,
   "id": "eb296a9e",
   "metadata": {},
   "outputs": [
    {
     "name": "stdout",
     "output_type": "stream",
     "text": [
      "Array of zeros (3x3):\n",
      "[[0. 0. 0.]\n",
      " [0. 0. 0.]\n",
      " [0. 0. 0.]]\n"
     ]
    }
   ],
   "source": [
    "import numpy as np\n",
    "\n",
    "# Create a 3x3 array filled with zeros\n",
    "zero_matrix = np.zeros((3, 3))\n",
    "\n",
    "# Print the created array\n",
    "print(\"Array of zeros (3x3):\")\n",
    "print(zero_matrix)\n"
   ]
  },
  {
   "cell_type": "markdown",
   "id": "dfcf13b5",
   "metadata": {},
   "source": [
    "Q6. Create an identity matrix of shape (5,5) using numpy functions?\n",
    "\n",
    "[Hint: An identity matrix is a matrix containing 1 diagonally and other elements will be 0.]"
   ]
  },
  {
   "cell_type": "code",
   "execution_count": 8,
   "id": "0aba3ff3",
   "metadata": {},
   "outputs": [
    {
     "data": {
      "text/plain": [
       "matrix([[1., 0., 0., 0., 0.],\n",
       "        [0., 1., 0., 0., 0.],\n",
       "        [0., 0., 1., 0., 0.],\n",
       "        [0., 0., 0., 1., 0.],\n",
       "        [0., 0., 0., 0., 1.]])"
      ]
     },
     "execution_count": 8,
     "metadata": {},
     "output_type": "execute_result"
    }
   ],
   "source": [
    "import numpy.matlib as nm\n",
    "nm.eye(5)"
   ]
  },
  {
   "cell_type": "code",
   "execution_count": null,
   "id": "d552712c",
   "metadata": {},
   "outputs": [],
   "source": []
  },
  {
   "cell_type": "code",
   "execution_count": null,
   "id": "16bae432",
   "metadata": {},
   "outputs": [],
   "source": []
  }
 ],
 "metadata": {
  "kernelspec": {
   "display_name": "Python 3 (ipykernel)",
   "language": "python",
   "name": "python3"
  },
  "language_info": {
   "codemirror_mode": {
    "name": "ipython",
    "version": 3
   },
   "file_extension": ".py",
   "mimetype": "text/x-python",
   "name": "python",
   "nbconvert_exporter": "python",
   "pygments_lexer": "ipython3",
   "version": "3.11.3"
  }
 },
 "nbformat": 4,
 "nbformat_minor": 5
}
